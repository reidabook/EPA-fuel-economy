{
 "cells": [
  {
   "cell_type": "markdown",
   "metadata": {},
   "source": [
    "# EPA Fuel Economy Data Assessment\n",
    "\n",
    "This jupyter notebook provides an assessment of EPA fuel economy data from 2018 and 2008.\n",
    "\n",
    "To download data: https://www.fueleconomy.gov/feg/download.shtml\n",
    "\n",
    "Documentation: https://www.fueleconomy.gov/feg/EPAGreenGuide/GreenVehicleGuideDocumentation.pdf\n",
    "\n",
    "README.txt: http://www.fueleconomy.gov/feg/epadata/Readme.txt"
   ]
  },
  {
   "cell_type": "code",
   "execution_count": 1,
   "metadata": {},
   "outputs": [],
   "source": [
    "import pandas as pd\n",
    "import numpy as np\n",
    "import matplotlib.pyplot as plt\n",
    "% matplotlib inline\n",
    "import seaborn as sns\n",
    "sns.set_style('darkgrid')\n",
    "\n",
    "#import and assess the 2008 data\n",
    "temp_08 = pd.read_excel(\"https://www.fueleconomy.gov/feg/EPAGreenGuide/xls/all_alpha_08.xls\")\n",
    "temp_18 = pd.read_excel('https://www.fueleconomy.gov/feg/EPAGreenGuide/xls/all_alpha_18.xlsx')"
   ]
  },
  {
   "cell_type": "markdown",
   "metadata": {},
   "source": [
    "# REMOVE THE BELOW"
   ]
  },
  {
   "cell_type": "code",
   "execution_count": 2,
   "metadata": {},
   "outputs": [],
   "source": [
    "df_08 = temp_08.copy()\n",
    "df_18 = temp_18.copy()"
   ]
  },
  {
   "cell_type": "code",
   "execution_count": 3,
   "metadata": {},
   "outputs": [
    {
     "name": "stdout",
     "output_type": "stream",
     "text": [
      "2008\n",
      "Index(['Model', 'Displ', 'Cyl', 'Trans', 'Drive', 'Fuel', 'Sales Area', 'Stnd',\n",
      "       'Underhood ID', 'Veh Class', 'Air Pollution Score', 'FE Calc Appr',\n",
      "       'City MPG', 'Hwy MPG', 'Cmb MPG', 'Unadj Cmb MPG',\n",
      "       'Greenhouse Gas Score', 'SmartWay'],\n",
      "      dtype='object')\n",
      "2018\n",
      "Index(['Model', 'Displ', 'Cyl', 'Trans', 'Drive', 'Fuel', 'Cert Region',\n",
      "       'Stnd', 'Stnd Description', 'Underhood ID', 'Veh Class',\n",
      "       'Air Pollution Score', 'City MPG', 'Hwy MPG', 'Cmb MPG',\n",
      "       'Greenhouse Gas Score', 'SmartWay', 'Comb CO2'],\n",
      "      dtype='object')\n",
      "\n",
      "Do all columns match?\n",
      "False\n"
     ]
    }
   ],
   "source": [
    "#evaluate column labels to determine if they are aligned\n",
    "print(\"2008\", df_08.columns, \"2018\", df_18.columns, \n",
    "      \"\\nDo all columns match?\",\n",
    "      (df_08.columns == df_18.columns).all(),\n",
    "      sep='\\n')"
   ]
  },
  {
   "cell_type": "code",
   "execution_count": 4,
   "metadata": {},
   "outputs": [],
   "source": [
    "def clean_columns(df):\n",
    "\n",
    "    #Make columns lowercase and replace spaces with underscores in column names\n",
    "    df.rename(columns=lambda x: x.strip().lower().replace(\" \", \"_\"), inplace=True)\n",
    "    \n",
    "    #remove null values and duplicates\n",
    "    df.drop_duplicates(inplace=True)\n",
    "    df.dropna(inplace=True)"
   ]
  },
  {
   "cell_type": "code",
   "execution_count": 5,
   "metadata": {},
   "outputs": [],
   "source": [
    "#dropping columns that are not present in both datasets or are unnecessary for evaluation\n",
    "df_08.drop(['Stnd', 'Underhood ID', 'FE Calc Appr', 'Unadj Cmb MPG'],axis=1,inplace=True)\n",
    "df_18.drop(['Stnd', 'Stnd Description', 'Underhood ID', 'Comb CO2'],axis=1,inplace=True)\n",
    "\n",
    "#renaming columns for consistency in 2008 only\n",
    "\n",
    "df_08.rename(columns={'Sales Area':'Cert Region'}, inplace=True)\n",
    "\n",
    "clean_columns(df_08)\n",
    "clean_columns(df_18)"
   ]
  },
  {
   "cell_type": "markdown",
   "metadata": {},
   "source": [
    "Following columns do not have matching types: cyl, air_pollution_score, city_mpg, hwy_mpg, cmb_mpg, greenhouse_gas_score"
   ]
  },
  {
   "cell_type": "code",
   "execution_count": 6,
   "metadata": {},
   "outputs": [],
   "source": [
    "#remove FC certifications because they are not present in the 2018 dataset\n",
    "cert_08 = df_08.query('cert_region == \"FC\"')\n",
    "df_08.drop(cert_08.index, inplace=True)\n",
    "\n",
    "#2008 - convert from string to integer\n",
    "#2018 - convert from integer to string\n",
    "df_08['cyl'] = df_08['cyl'].apply(lambda x: int(x.strip('( cyl)')))\n",
    "df_18['cyl'] = df_18['cyl'].astype(int)"
   ]
  },
  {
   "cell_type": "markdown",
   "metadata": {},
   "source": [
    "The air_pollution_score, mpg columns, and greenhouse gas scores have a problem. According to [this link](http://www.fueleconomy.gov/feg/findacarhelp.shtml#airPollutionScore) (via the PDF documentation):\n",
    "\n",
    "    \"If a vehicle can operate on more than one type of fuel, an estimate is provided for each fuel type.\"\n",
    "    \n",
    "Vehicles with more than one fuel type will have a string that holds two values - one for each. "
   ]
  },
  {
   "cell_type": "code",
   "execution_count": 7,
   "metadata": {},
   "outputs": [],
   "source": [
    "def split_rows(df, column_list):\n",
    "    \n",
    "    #hybrids\n",
    "    hb = df[df['fuel'].str.contains('/')]\n",
    "    \n",
    "    copy1 = hb.copy()\n",
    "    copy2 = hb.copy() \n",
    "\n",
    "    for c in column_list:\n",
    "        copy1[c] = copy1[c].apply(lambda x: x.split('/')[0])\n",
    "        copy2[c] = copy2[c].apply(lambda x: x.split('/')[1])\n",
    "        \n",
    "    new_rows = copy1.append(copy2)\n",
    "    \n",
    "    df.drop(hb.index, inplace=True)\n",
    "    df = df.append(new_rows, ignore_index=True)\n",
    "    \n",
    "    print(\"Number of rows split:\", hb.shape[0])\n",
    "    return df"
   ]
  },
  {
   "cell_type": "code",
   "execution_count": 8,
   "metadata": {},
   "outputs": [
    {
     "name": "stdout",
     "output_type": "stream",
     "text": [
      "Number of rows split: 26\n",
      "Number of rows split: 164\n"
     ]
    }
   ],
   "source": [
    "#runs the above function for both dataframes\n",
    "\n",
    "column_list = ['fuel','city_mpg', 'hwy_mpg', 'cmb_mpg', 'greenhouse_gas_score', 'air_pollution_score']\n",
    "df_08 = split_rows(df_08, column_list)\n",
    "\n",
    "df_18 = split_rows(df_18, column_list[:4])"
   ]
  },
  {
   "cell_type": "code",
   "execution_count": 9,
   "metadata": {},
   "outputs": [
    {
     "data": {
      "text/plain": [
       "True"
      ]
     },
     "execution_count": 9,
     "metadata": {},
     "output_type": "execute_result"
    }
   ],
   "source": [
    "for c in column_list[1:]:\n",
    "    df_08[c] = df_08[c].astype(float)\n",
    "    df_18[c] = df_18[c].astype(float)\n",
    "    if c == 'greenhouse_gas_score':\n",
    "        df_08[c] = df_08[c].astype(int)\n",
    "        df_18[c] = df_18[c].astype(int)\n",
    "        \n",
    "(df_08.dtypes == df_18.dtypes).any()"
   ]
  },
  {
   "cell_type": "code",
   "execution_count": 10,
   "metadata": {},
   "outputs": [],
   "source": [
    "def split_by_region(temp_08,temp_18,region):\n",
    "    \n",
    "    temp_08 = temp_08.query('cert_region == @region').reset_index(drop=True)\n",
    "    temp_18 = temp_18.query('cert_region == @region').reset_index(drop=True)\n",
    "    \n",
    "    temp_08.drop('cert_region', axis=1, inplace=True)\n",
    "    temp_18.drop('cert_region', axis=1,inplace=True)\n",
    "    \n",
    "    return temp_08, temp_18"
   ]
  },
  {
   "cell_type": "code",
   "execution_count": 11,
   "metadata": {},
   "outputs": [
    {
     "data": {
      "text/html": [
       "<div>\n",
       "<style scoped>\n",
       "    .dataframe tbody tr th:only-of-type {\n",
       "        vertical-align: middle;\n",
       "    }\n",
       "\n",
       "    .dataframe tbody tr th {\n",
       "        vertical-align: top;\n",
       "    }\n",
       "\n",
       "    .dataframe thead th {\n",
       "        text-align: right;\n",
       "    }\n",
       "</style>\n",
       "<table border=\"1\" class=\"dataframe\">\n",
       "  <thead>\n",
       "    <tr style=\"text-align: right;\">\n",
       "      <th></th>\n",
       "      <th>model</th>\n",
       "      <th>displ</th>\n",
       "      <th>cyl</th>\n",
       "      <th>trans</th>\n",
       "      <th>drive</th>\n",
       "      <th>fuel</th>\n",
       "      <th>veh_class</th>\n",
       "      <th>air_pollution_score</th>\n",
       "      <th>city_mpg</th>\n",
       "      <th>hwy_mpg</th>\n",
       "      <th>cmb_mpg</th>\n",
       "      <th>greenhouse_gas_score</th>\n",
       "      <th>smartway</th>\n",
       "    </tr>\n",
       "  </thead>\n",
       "  <tbody>\n",
       "    <tr>\n",
       "      <th>0</th>\n",
       "      <td>ACURA MDX</td>\n",
       "      <td>3.7</td>\n",
       "      <td>6</td>\n",
       "      <td>Auto-S5</td>\n",
       "      <td>4WD</td>\n",
       "      <td>Gasoline</td>\n",
       "      <td>SUV</td>\n",
       "      <td>7.0</td>\n",
       "      <td>15.0</td>\n",
       "      <td>20.0</td>\n",
       "      <td>17.0</td>\n",
       "      <td>4</td>\n",
       "      <td>no</td>\n",
       "    </tr>\n",
       "    <tr>\n",
       "      <th>1</th>\n",
       "      <td>ACURA RDX</td>\n",
       "      <td>2.3</td>\n",
       "      <td>4</td>\n",
       "      <td>Auto-S5</td>\n",
       "      <td>4WD</td>\n",
       "      <td>Gasoline</td>\n",
       "      <td>SUV</td>\n",
       "      <td>7.0</td>\n",
       "      <td>17.0</td>\n",
       "      <td>22.0</td>\n",
       "      <td>19.0</td>\n",
       "      <td>5</td>\n",
       "      <td>no</td>\n",
       "    </tr>\n",
       "    <tr>\n",
       "      <th>2</th>\n",
       "      <td>ACURA RL</td>\n",
       "      <td>3.5</td>\n",
       "      <td>6</td>\n",
       "      <td>Auto-S5</td>\n",
       "      <td>4WD</td>\n",
       "      <td>Gasoline</td>\n",
       "      <td>midsize car</td>\n",
       "      <td>7.0</td>\n",
       "      <td>16.0</td>\n",
       "      <td>24.0</td>\n",
       "      <td>19.0</td>\n",
       "      <td>5</td>\n",
       "      <td>no</td>\n",
       "    </tr>\n",
       "    <tr>\n",
       "      <th>3</th>\n",
       "      <td>ACURA TL</td>\n",
       "      <td>3.2</td>\n",
       "      <td>6</td>\n",
       "      <td>Auto-S5</td>\n",
       "      <td>2WD</td>\n",
       "      <td>Gasoline</td>\n",
       "      <td>midsize car</td>\n",
       "      <td>7.0</td>\n",
       "      <td>18.0</td>\n",
       "      <td>26.0</td>\n",
       "      <td>21.0</td>\n",
       "      <td>6</td>\n",
       "      <td>yes</td>\n",
       "    </tr>\n",
       "    <tr>\n",
       "      <th>4</th>\n",
       "      <td>ACURA TL</td>\n",
       "      <td>3.5</td>\n",
       "      <td>6</td>\n",
       "      <td>Auto-S5</td>\n",
       "      <td>2WD</td>\n",
       "      <td>Gasoline</td>\n",
       "      <td>midsize car</td>\n",
       "      <td>7.0</td>\n",
       "      <td>17.0</td>\n",
       "      <td>26.0</td>\n",
       "      <td>20.0</td>\n",
       "      <td>6</td>\n",
       "      <td>yes</td>\n",
       "    </tr>\n",
       "  </tbody>\n",
       "</table>\n",
       "</div>"
      ],
      "text/plain": [
       "       model  displ  cyl    trans drive      fuel    veh_class  \\\n",
       "0  ACURA MDX    3.7    6  Auto-S5   4WD  Gasoline          SUV   \n",
       "1  ACURA RDX    2.3    4  Auto-S5   4WD  Gasoline          SUV   \n",
       "2   ACURA RL    3.5    6  Auto-S5   4WD  Gasoline  midsize car   \n",
       "3   ACURA TL    3.2    6  Auto-S5   2WD  Gasoline  midsize car   \n",
       "4   ACURA TL    3.5    6  Auto-S5   2WD  Gasoline  midsize car   \n",
       "\n",
       "   air_pollution_score  city_mpg  hwy_mpg  cmb_mpg  greenhouse_gas_score  \\\n",
       "0                  7.0      15.0     20.0     17.0                     4   \n",
       "1                  7.0      17.0     22.0     19.0                     5   \n",
       "2                  7.0      16.0     24.0     19.0                     5   \n",
       "3                  7.0      18.0     26.0     21.0                     6   \n",
       "4                  7.0      17.0     26.0     20.0                     6   \n",
       "\n",
       "  smartway  \n",
       "0       no  \n",
       "1       no  \n",
       "2       no  \n",
       "3      yes  \n",
       "4      yes  "
      ]
     },
     "execution_count": 11,
     "metadata": {},
     "output_type": "execute_result"
    }
   ],
   "source": [
    "ca_08, ca_18 = split_by_region(df_08, df_18, \"CA\")\n",
    "fa_08, fa_18 = split_by_region(df_08, df_18, \"FA\")\n",
    "ca_08.head()"
   ]
  },
  {
   "cell_type": "code",
   "execution_count": 12,
   "metadata": {},
   "outputs": [
    {
     "data": {
      "text/html": [
       "<div>\n",
       "<style scoped>\n",
       "    .dataframe tbody tr th:only-of-type {\n",
       "        vertical-align: middle;\n",
       "    }\n",
       "\n",
       "    .dataframe tbody tr th {\n",
       "        vertical-align: top;\n",
       "    }\n",
       "\n",
       "    .dataframe thead th {\n",
       "        text-align: right;\n",
       "    }\n",
       "</style>\n",
       "<table border=\"1\" class=\"dataframe\">\n",
       "  <thead>\n",
       "    <tr style=\"text-align: right;\">\n",
       "      <th></th>\n",
       "      <th>model</th>\n",
       "      <th>displ</th>\n",
       "      <th>cyl</th>\n",
       "      <th>trans</th>\n",
       "      <th>drive</th>\n",
       "      <th>fuel</th>\n",
       "      <th>veh_class</th>\n",
       "      <th>air_pollution_score</th>\n",
       "      <th>city_mpg</th>\n",
       "      <th>hwy_mpg</th>\n",
       "      <th>cmb_mpg</th>\n",
       "      <th>greenhouse_gas_score</th>\n",
       "      <th>smartway</th>\n",
       "    </tr>\n",
       "  </thead>\n",
       "  <tbody>\n",
       "    <tr>\n",
       "      <th>0</th>\n",
       "      <td>ACURA MDX</td>\n",
       "      <td>3.7</td>\n",
       "      <td>6</td>\n",
       "      <td>Auto-S5</td>\n",
       "      <td>4WD</td>\n",
       "      <td>Gasoline</td>\n",
       "      <td>SUV</td>\n",
       "      <td>6.0</td>\n",
       "      <td>15.0</td>\n",
       "      <td>20.0</td>\n",
       "      <td>17.0</td>\n",
       "      <td>4</td>\n",
       "      <td>no</td>\n",
       "    </tr>\n",
       "    <tr>\n",
       "      <th>1</th>\n",
       "      <td>ACURA RDX</td>\n",
       "      <td>2.3</td>\n",
       "      <td>4</td>\n",
       "      <td>Auto-S5</td>\n",
       "      <td>4WD</td>\n",
       "      <td>Gasoline</td>\n",
       "      <td>SUV</td>\n",
       "      <td>6.0</td>\n",
       "      <td>17.0</td>\n",
       "      <td>22.0</td>\n",
       "      <td>19.0</td>\n",
       "      <td>5</td>\n",
       "      <td>no</td>\n",
       "    </tr>\n",
       "    <tr>\n",
       "      <th>2</th>\n",
       "      <td>ACURA RL</td>\n",
       "      <td>3.5</td>\n",
       "      <td>6</td>\n",
       "      <td>Auto-S5</td>\n",
       "      <td>4WD</td>\n",
       "      <td>Gasoline</td>\n",
       "      <td>midsize car</td>\n",
       "      <td>6.0</td>\n",
       "      <td>16.0</td>\n",
       "      <td>24.0</td>\n",
       "      <td>19.0</td>\n",
       "      <td>5</td>\n",
       "      <td>no</td>\n",
       "    </tr>\n",
       "    <tr>\n",
       "      <th>3</th>\n",
       "      <td>ACURA TL</td>\n",
       "      <td>3.2</td>\n",
       "      <td>6</td>\n",
       "      <td>Auto-S5</td>\n",
       "      <td>2WD</td>\n",
       "      <td>Gasoline</td>\n",
       "      <td>midsize car</td>\n",
       "      <td>6.0</td>\n",
       "      <td>18.0</td>\n",
       "      <td>26.0</td>\n",
       "      <td>21.0</td>\n",
       "      <td>6</td>\n",
       "      <td>no</td>\n",
       "    </tr>\n",
       "    <tr>\n",
       "      <th>4</th>\n",
       "      <td>ACURA TL</td>\n",
       "      <td>3.5</td>\n",
       "      <td>6</td>\n",
       "      <td>Auto-S5</td>\n",
       "      <td>2WD</td>\n",
       "      <td>Gasoline</td>\n",
       "      <td>midsize car</td>\n",
       "      <td>6.0</td>\n",
       "      <td>17.0</td>\n",
       "      <td>26.0</td>\n",
       "      <td>20.0</td>\n",
       "      <td>6</td>\n",
       "      <td>no</td>\n",
       "    </tr>\n",
       "  </tbody>\n",
       "</table>\n",
       "</div>"
      ],
      "text/plain": [
       "       model  displ  cyl    trans drive      fuel    veh_class  \\\n",
       "0  ACURA MDX    3.7    6  Auto-S5   4WD  Gasoline          SUV   \n",
       "1  ACURA RDX    2.3    4  Auto-S5   4WD  Gasoline          SUV   \n",
       "2   ACURA RL    3.5    6  Auto-S5   4WD  Gasoline  midsize car   \n",
       "3   ACURA TL    3.2    6  Auto-S5   2WD  Gasoline  midsize car   \n",
       "4   ACURA TL    3.5    6  Auto-S5   2WD  Gasoline  midsize car   \n",
       "\n",
       "   air_pollution_score  city_mpg  hwy_mpg  cmb_mpg  greenhouse_gas_score  \\\n",
       "0                  6.0      15.0     20.0     17.0                     4   \n",
       "1                  6.0      17.0     22.0     19.0                     5   \n",
       "2                  6.0      16.0     24.0     19.0                     5   \n",
       "3                  6.0      18.0     26.0     21.0                     6   \n",
       "4                  6.0      17.0     26.0     20.0                     6   \n",
       "\n",
       "  smartway  \n",
       "0       no  \n",
       "1       no  \n",
       "2       no  \n",
       "3       no  \n",
       "4       no  "
      ]
     },
     "execution_count": 12,
     "metadata": {},
     "output_type": "execute_result"
    }
   ],
   "source": [
    "fa_08.head()"
   ]
  },
  {
   "cell_type": "code",
   "execution_count": 13,
   "metadata": {},
   "outputs": [
    {
     "data": {
      "text/html": [
       "<div>\n",
       "<style scoped>\n",
       "    .dataframe tbody tr th:only-of-type {\n",
       "        vertical-align: middle;\n",
       "    }\n",
       "\n",
       "    .dataframe tbody tr th {\n",
       "        vertical-align: top;\n",
       "    }\n",
       "\n",
       "    .dataframe thead th {\n",
       "        text-align: right;\n",
       "    }\n",
       "</style>\n",
       "<table border=\"1\" class=\"dataframe\">\n",
       "  <thead>\n",
       "    <tr style=\"text-align: right;\">\n",
       "      <th></th>\n",
       "      <th>model</th>\n",
       "      <th>displ</th>\n",
       "      <th>cyl</th>\n",
       "      <th>trans</th>\n",
       "      <th>drive</th>\n",
       "      <th>fuel</th>\n",
       "      <th>veh_class</th>\n",
       "      <th>air_pollution_score</th>\n",
       "      <th>city_mpg</th>\n",
       "      <th>hwy_mpg</th>\n",
       "      <th>cmb_mpg</th>\n",
       "      <th>greenhouse_gas_score</th>\n",
       "      <th>smartway</th>\n",
       "    </tr>\n",
       "  </thead>\n",
       "  <tbody>\n",
       "    <tr>\n",
       "      <th>0</th>\n",
       "      <td>ACURA ILX</td>\n",
       "      <td>2.4</td>\n",
       "      <td>4</td>\n",
       "      <td>AMS-8</td>\n",
       "      <td>2WD</td>\n",
       "      <td>Gasoline</td>\n",
       "      <td>small car</td>\n",
       "      <td>3.0</td>\n",
       "      <td>25.0</td>\n",
       "      <td>35.0</td>\n",
       "      <td>29.0</td>\n",
       "      <td>6</td>\n",
       "      <td>No</td>\n",
       "    </tr>\n",
       "    <tr>\n",
       "      <th>1</th>\n",
       "      <td>ACURA MDX</td>\n",
       "      <td>3.0</td>\n",
       "      <td>6</td>\n",
       "      <td>AMS-7</td>\n",
       "      <td>4WD</td>\n",
       "      <td>Gasoline</td>\n",
       "      <td>small SUV</td>\n",
       "      <td>3.0</td>\n",
       "      <td>26.0</td>\n",
       "      <td>27.0</td>\n",
       "      <td>27.0</td>\n",
       "      <td>6</td>\n",
       "      <td>No</td>\n",
       "    </tr>\n",
       "    <tr>\n",
       "      <th>2</th>\n",
       "      <td>ACURA MDX</td>\n",
       "      <td>3.5</td>\n",
       "      <td>6</td>\n",
       "      <td>SemiAuto-9</td>\n",
       "      <td>2WD</td>\n",
       "      <td>Gasoline</td>\n",
       "      <td>small SUV</td>\n",
       "      <td>3.0</td>\n",
       "      <td>19.0</td>\n",
       "      <td>27.0</td>\n",
       "      <td>22.0</td>\n",
       "      <td>4</td>\n",
       "      <td>No</td>\n",
       "    </tr>\n",
       "    <tr>\n",
       "      <th>3</th>\n",
       "      <td>ACURA MDX</td>\n",
       "      <td>3.5</td>\n",
       "      <td>6</td>\n",
       "      <td>SemiAuto-9</td>\n",
       "      <td>2WD</td>\n",
       "      <td>Gasoline</td>\n",
       "      <td>small SUV</td>\n",
       "      <td>3.0</td>\n",
       "      <td>20.0</td>\n",
       "      <td>27.0</td>\n",
       "      <td>23.0</td>\n",
       "      <td>5</td>\n",
       "      <td>No</td>\n",
       "    </tr>\n",
       "    <tr>\n",
       "      <th>4</th>\n",
       "      <td>ACURA MDX</td>\n",
       "      <td>3.5</td>\n",
       "      <td>6</td>\n",
       "      <td>SemiAuto-9</td>\n",
       "      <td>4WD</td>\n",
       "      <td>Gasoline</td>\n",
       "      <td>small SUV</td>\n",
       "      <td>3.0</td>\n",
       "      <td>18.0</td>\n",
       "      <td>26.0</td>\n",
       "      <td>21.0</td>\n",
       "      <td>4</td>\n",
       "      <td>No</td>\n",
       "    </tr>\n",
       "  </tbody>\n",
       "</table>\n",
       "</div>"
      ],
      "text/plain": [
       "       model  displ  cyl       trans drive      fuel  veh_class  \\\n",
       "0  ACURA ILX    2.4    4       AMS-8   2WD  Gasoline  small car   \n",
       "1  ACURA MDX    3.0    6       AMS-7   4WD  Gasoline  small SUV   \n",
       "2  ACURA MDX    3.5    6  SemiAuto-9   2WD  Gasoline  small SUV   \n",
       "3  ACURA MDX    3.5    6  SemiAuto-9   2WD  Gasoline  small SUV   \n",
       "4  ACURA MDX    3.5    6  SemiAuto-9   4WD  Gasoline  small SUV   \n",
       "\n",
       "   air_pollution_score  city_mpg  hwy_mpg  cmb_mpg  greenhouse_gas_score  \\\n",
       "0                  3.0      25.0     35.0     29.0                     6   \n",
       "1                  3.0      26.0     27.0     27.0                     6   \n",
       "2                  3.0      19.0     27.0     22.0                     4   \n",
       "3                  3.0      20.0     27.0     23.0                     5   \n",
       "4                  3.0      18.0     26.0     21.0                     4   \n",
       "\n",
       "  smartway  \n",
       "0       No  \n",
       "1       No  \n",
       "2       No  \n",
       "3       No  \n",
       "4       No  "
      ]
     },
     "execution_count": 13,
     "metadata": {},
     "output_type": "execute_result"
    }
   ],
   "source": [
    "ca_18.head()"
   ]
  },
  {
   "cell_type": "code",
   "execution_count": 14,
   "metadata": {},
   "outputs": [
    {
     "data": {
      "text/html": [
       "<div>\n",
       "<style scoped>\n",
       "    .dataframe tbody tr th:only-of-type {\n",
       "        vertical-align: middle;\n",
       "    }\n",
       "\n",
       "    .dataframe tbody tr th {\n",
       "        vertical-align: top;\n",
       "    }\n",
       "\n",
       "    .dataframe thead th {\n",
       "        text-align: right;\n",
       "    }\n",
       "</style>\n",
       "<table border=\"1\" class=\"dataframe\">\n",
       "  <thead>\n",
       "    <tr style=\"text-align: right;\">\n",
       "      <th></th>\n",
       "      <th>model</th>\n",
       "      <th>displ</th>\n",
       "      <th>cyl</th>\n",
       "      <th>trans</th>\n",
       "      <th>drive</th>\n",
       "      <th>fuel</th>\n",
       "      <th>veh_class</th>\n",
       "      <th>air_pollution_score</th>\n",
       "      <th>city_mpg</th>\n",
       "      <th>hwy_mpg</th>\n",
       "      <th>cmb_mpg</th>\n",
       "      <th>greenhouse_gas_score</th>\n",
       "      <th>smartway</th>\n",
       "    </tr>\n",
       "  </thead>\n",
       "  <tbody>\n",
       "    <tr>\n",
       "      <th>0</th>\n",
       "      <td>ACURA ILX</td>\n",
       "      <td>2.4</td>\n",
       "      <td>4</td>\n",
       "      <td>AMS-8</td>\n",
       "      <td>2WD</td>\n",
       "      <td>Gasoline</td>\n",
       "      <td>small car</td>\n",
       "      <td>3.0</td>\n",
       "      <td>25.0</td>\n",
       "      <td>35.0</td>\n",
       "      <td>29.0</td>\n",
       "      <td>6</td>\n",
       "      <td>No</td>\n",
       "    </tr>\n",
       "    <tr>\n",
       "      <th>1</th>\n",
       "      <td>ACURA MDX</td>\n",
       "      <td>3.0</td>\n",
       "      <td>6</td>\n",
       "      <td>AMS-7</td>\n",
       "      <td>4WD</td>\n",
       "      <td>Gasoline</td>\n",
       "      <td>small SUV</td>\n",
       "      <td>3.0</td>\n",
       "      <td>26.0</td>\n",
       "      <td>27.0</td>\n",
       "      <td>27.0</td>\n",
       "      <td>6</td>\n",
       "      <td>No</td>\n",
       "    </tr>\n",
       "    <tr>\n",
       "      <th>2</th>\n",
       "      <td>ACURA MDX</td>\n",
       "      <td>3.5</td>\n",
       "      <td>6</td>\n",
       "      <td>SemiAuto-9</td>\n",
       "      <td>2WD</td>\n",
       "      <td>Gasoline</td>\n",
       "      <td>small SUV</td>\n",
       "      <td>3.0</td>\n",
       "      <td>19.0</td>\n",
       "      <td>27.0</td>\n",
       "      <td>22.0</td>\n",
       "      <td>4</td>\n",
       "      <td>No</td>\n",
       "    </tr>\n",
       "    <tr>\n",
       "      <th>3</th>\n",
       "      <td>ACURA MDX</td>\n",
       "      <td>3.5</td>\n",
       "      <td>6</td>\n",
       "      <td>SemiAuto-9</td>\n",
       "      <td>2WD</td>\n",
       "      <td>Gasoline</td>\n",
       "      <td>small SUV</td>\n",
       "      <td>3.0</td>\n",
       "      <td>20.0</td>\n",
       "      <td>27.0</td>\n",
       "      <td>23.0</td>\n",
       "      <td>5</td>\n",
       "      <td>No</td>\n",
       "    </tr>\n",
       "    <tr>\n",
       "      <th>4</th>\n",
       "      <td>ACURA MDX</td>\n",
       "      <td>3.5</td>\n",
       "      <td>6</td>\n",
       "      <td>SemiAuto-9</td>\n",
       "      <td>4WD</td>\n",
       "      <td>Gasoline</td>\n",
       "      <td>small SUV</td>\n",
       "      <td>3.0</td>\n",
       "      <td>18.0</td>\n",
       "      <td>26.0</td>\n",
       "      <td>21.0</td>\n",
       "      <td>4</td>\n",
       "      <td>No</td>\n",
       "    </tr>\n",
       "  </tbody>\n",
       "</table>\n",
       "</div>"
      ],
      "text/plain": [
       "       model  displ  cyl       trans drive      fuel  veh_class  \\\n",
       "0  ACURA ILX    2.4    4       AMS-8   2WD  Gasoline  small car   \n",
       "1  ACURA MDX    3.0    6       AMS-7   4WD  Gasoline  small SUV   \n",
       "2  ACURA MDX    3.5    6  SemiAuto-9   2WD  Gasoline  small SUV   \n",
       "3  ACURA MDX    3.5    6  SemiAuto-9   2WD  Gasoline  small SUV   \n",
       "4  ACURA MDX    3.5    6  SemiAuto-9   4WD  Gasoline  small SUV   \n",
       "\n",
       "   air_pollution_score  city_mpg  hwy_mpg  cmb_mpg  greenhouse_gas_score  \\\n",
       "0                  3.0      25.0     35.0     29.0                     6   \n",
       "1                  3.0      26.0     27.0     27.0                     6   \n",
       "2                  3.0      19.0     27.0     22.0                     4   \n",
       "3                  3.0      20.0     27.0     23.0                     5   \n",
       "4                  3.0      18.0     26.0     21.0                     4   \n",
       "\n",
       "  smartway  \n",
       "0       No  \n",
       "1       No  \n",
       "2       No  \n",
       "3       No  \n",
       "4       No  "
      ]
     },
     "execution_count": 14,
     "metadata": {},
     "output_type": "execute_result"
    }
   ],
   "source": [
    "fa_18.head()"
   ]
  },
  {
   "cell_type": "markdown",
   "metadata": {},
   "source": [
    "#### How do the distributions of greenhouse gas scores compare between 2008 and 2018?"
   ]
  },
  {
   "cell_type": "code",
   "execution_count": 80,
   "metadata": {},
   "outputs": [],
   "source": [
    "def dist_funct(col, colTitle):\n",
    "    colors = ['#5499c7', '#1a5276', '#a569bd','#4a235a']\n",
    "    labels = ['2008','2018']\n",
    "\n",
    "    col_ca_08 = ca_08[col]\n",
    "    col_ca_18 = ca_18[col]\n",
    "    col_fa_08 = fa_08[col]\n",
    "    col_fa_18 = fa_18[col]\n",
    "\n",
    "    camean_08 = col_ca_08.mean()\n",
    "    camean_18 = col_ca_18.mean()\n",
    "    famean_08 = col_fa_08.mean()\n",
    "    famean_18 = col_fa_18.mean()\n",
    "\n",
    "    #Ax1 = Averages for CA and FA\n",
    "    values_ca = [camean_08, camean_18]\n",
    "    values_fa = [famean_08, famean_18]\n",
    "\n",
    "    bar_df = pd.DataFrame({'CA Certified': values_ca, 'FA Certified': values_fa}, index=labels)\n",
    "    ax1 = bar_df.plot.bar(rot=0,color=[colors[0],colors[2]])\n",
    "\n",
    "    #Formatting for Ax1\n",
    "    ax1.legend(['CA','FA'])\n",
    "    ax1.set_title(\"Mean \" + colTitle, fontsize=16)\n",
    "    ax1.set_xlabel(\"Year\", fontsize=12)\n",
    "    ax1.set_ylabel(colTitle, fontsize=12)\n",
    "\n",
    "    f, (ax2, ax3) = plt.subplots(1, 2, figsize=(15,5))\n",
    "\n",
    "    #CA certified vehicles\n",
    "    ax2.hist([col_ca_08, col_ca_18], \n",
    "             label=labels, color=[colors[0],colors[1]], density=True, stacked=True)\n",
    "\n",
    "    #Formatting for CA chart\n",
    "    ax2.legend()\n",
    "    ax2.set_title(\"Proportional Distribution of CA Certified Vehicles\",fontsize=16)\n",
    "    ax2.set_xlabel(colTitle, fontsize=12)\n",
    "    if col != 'cmb_mpg': ax2.set_xticks(range(11))\n",
    "    ax2.set_ylabel(\"Proportional Frequency\", fontsize=12);\n",
    "\n",
    "\n",
    "    #FA certified vehicles\n",
    "    ax3.hist([col_fa_08, col_fa_18], \n",
    "             label=labels, color=[colors[2],colors[3]], density=True, stacked=True)\n",
    "\n",
    "    #Formatting for FA chart\n",
    "    ax3.legend()\n",
    "    ax3.set_title(\"Proportional Distribution of FA Certified Vehicles\", fontsize=16)\n",
    "    ax3.set_xlabel(colTitle, fontsize=12)\n",
    "    if col != 'cmb_mpg': ax3.set_xticks(range(11))\n",
    "    ax3.set_ylabel(\"Proportional Frequency\", fontsize=12);\n",
    "\n",
    "\n",
    "    print(\n",
    "        \"CA Certified Vehicles\",\n",
    "        \"Mean minus Median for 2008 = {}\".format(camean_08 - col_ca_08.median()),\n",
    "        \"Mean minus Median for 2018 = {}\".format(camean_18 - col_ca_18.median()), \n",
    "        '\\n',\n",
    "        \"FA Certified Vehicles\",\n",
    "        \"Mean minus Median for 2008 = {}\".format(famean_08 - col_fa_08.median()),\n",
    "        \"Mean minus Median for 2018 = {}\".format(famean_18 - col_fa_18.median()),\n",
    "        sep='\\n')\n",
    "    "
   ]
  },
  {
   "cell_type": "code",
   "execution_count": 84,
   "metadata": {},
   "outputs": [
    {
     "name": "stdout",
     "output_type": "stream",
     "text": [
      "CA Certified Vehicles\n",
      "Mean minus Median for 2008 = -0.803444782168186\n",
      "Mean minus Median for 2018 = -0.15935672514619892\n",
      "\n",
      "\n",
      "FA Certified Vehicles\n",
      "Mean minus Median for 2008 = 0.02117420596727637\n",
      "Mean minus Median for 2018 = -0.19844082211197733\n"
     ]
    },
    {
     "data": {
      "image/png": "[encoded data removed]",
      "text/plain": [
       "<Figure size 432x288 with 1 Axes>"
      ]
     },
     "metadata": {
      "needs_background": "light"
     },
     "output_type": "display_data"
    },
    {
     "data": {
      "image/png": "[encoded data removed]",
      "text/plain": [
       "<Figure size 1080x360 with 2 Axes>"
      ]
     },
     "metadata": {
      "needs_background": "light"
     },
     "output_type": "display_data"
    }
   ],
   "source": [
    "dist_funct('greenhouse_gas_score', 'Greenhouse Gas Score')"
   ]
  },
  {
   "cell_type": "markdown",
   "metadata": {},
   "source": [
    "Although the average greenhouse gas score for 2018 is lower than the 2008 average score (4.84 vs 5.19), the 2008 scores are more distributed to the left than the 2018 scores.\n",
    "\n",
    "Similar to CA certified vehicles, the average greenhouse gas score for 2018 is lower than the 2008 average score (4.80 vs 5.02). However, the 2018 scores are distributed to the left while the 2008 scores are distributed to the right."
   ]
  },
  {
   "cell_type": "markdown",
   "metadata": {},
   "source": [
    "#### How has the distribution of combined mpg changed from 2008 to 2018?"
   ]
  },
  {
   "cell_type": "code",
   "execution_count": 83,
   "metadata": {},
   "outputs": [
    {
     "name": "stdout",
     "output_type": "stream",
     "text": [
      "CA Certified Vehicles\n",
      "Mean minus Median for 2008 = -0.21175278622087035\n",
      "Mean minus Median for 2018 = 1.8282163742690045\n",
      "\n",
      "\n",
      "FA Certified Vehicles\n",
      "Mean minus Median for 2008 = 0.21174205967276194\n",
      "Mean minus Median for 2018 = 1.6243798724309002\n"
     ]
    },
    {
     "data": {
      "image/png": "[encoded data removed]",
      "text/plain": [
       "<Figure size 432x288 with 1 Axes>"
      ]
     },
     "metadata": {
      "needs_background": "light"
     },
     "output_type": "display_data"
    },
    {
     "data": {
      "image/png": "[encoded data removed]",
      "text/plain": [
       "<Figure size 1080x360 with 2 Axes>"
      ]
     },
     "metadata": {
      "needs_background": "light"
     },
     "output_type": "display_data"
    }
   ],
   "source": [
    "dist_funct('cmb_mpg', 'Combined MPG')"
   ]
  },
  {
   "cell_type": "markdown",
   "metadata": {},
   "source": [
    "For both CA and FA certified vehicles, the average combined MPG has increased from 2008 to 2018 by approximately 5 mpg. CA certified vehicles in 2008 were slightly skewed to the left, while the other distributions were skewed right."
   ]
  },
  {
   "cell_type": "markdown",
   "metadata": {},
   "source": [
    "#### How are displacement and combined mpg correlated?"
   ]
  },
  {
   "cell_type": "code",
   "execution_count": 72,
   "metadata": {},
   "outputs": [],
   "source": [
    "def corr_funct(df1, df2, title, y_col, xaxis, yaxis, colour):\n",
    "    \n",
    "    series1 = df1[y_col]\n",
    "    series2 = df1.cmb_mpg\n",
    "    series3 = df2[y_col]\n",
    "    series4 = df2.cmb_mpg\n",
    "    \n",
    "    f, (ax1, ax2) = plt.subplots(1, 2, figsize=(15,5))\n",
    "    \n",
    "    ax1.scatter(x=series1, y=series2, c=colour)\n",
    "    ax1.set_title(title.format('2008'), fontsize=16)\n",
    "    ax1.set_xlabel(xaxis, fontsize=12)\n",
    "    ax1.set_ylabel(yaxis, fontsize=12)\n",
    "    \n",
    "    ax2.scatter(x=series3, y=series4, c=colour)\n",
    "    ax2.set_title(title.format('2018'), fontsize=16)\n",
    "    ax2.set_xlabel(xaxis, fontsize=12)\n",
    "    ax2.set_ylabel(yaxis, fontsize=12)"
   ]
  },
  {
   "cell_type": "code",
   "execution_count": 73,
   "metadata": {},
   "outputs": [
    {
     "data": {
      "image/png": "[encoded data removed]",
      "text/plain": [
       "<Figure size 1080x360 with 2 Axes>"
      ]
     },
     "metadata": {
      "needs_background": "light"
     },
     "output_type": "display_data"
    },
    {
     "data": {
      "image/png": "[encoded data removed]",
      "text/plain": [
       "<Figure size 1080x360 with 2 Axes>"
      ]
     },
     "metadata": {
      "needs_background": "light"
     },
     "output_type": "display_data"
    }
   ],
   "source": [
    "y_col = 'displ'\n",
    "xlabel = \"Combined MPG\"\n",
    "ylabel = \"Displacement\"\n",
    "title = ylabel + \" vs \" + xlabel\n",
    "corr_funct(ca_08, ca_18, title + \" (CA, {})\", y_col, xlabel, ylabel, colors[0])\n",
    "corr_funct(fa_08, fa_18, title + \" (FA, {})\", y_col, xlabel, ylabel, colors[2])"
   ]
  },
  {
   "cell_type": "markdown",
   "metadata": {},
   "source": [
    "Displacement and Combined MPG are negatively correlated for all 2008 and 2018 vehicles, regardles of the certification."
   ]
  },
  {
   "cell_type": "markdown",
   "metadata": {},
   "source": [
    "#### How are greenhouse gas scores and combined mpg correlated?"
   ]
  },
  {
   "cell_type": "code",
   "execution_count": 71,
   "metadata": {},
   "outputs": [
    {
     "data": {
      "image/png": "[encoded data removed]",
      "text/plain": [
       "<Figure size 1080x360 with 2 Axes>"
      ]
     },
     "metadata": {
      "needs_background": "light"
     },
     "output_type": "display_data"
    },
    {
     "data": {
      "image/png": "[encoded data removed]",
      "text/plain": [
       "<Figure size 1080x360 with 2 Axes>"
      ]
     },
     "metadata": {
      "needs_background": "light"
     },
     "output_type": "display_data"
    }
   ],
   "source": [
    "y_col = 'greenhouse_gas_score'\n",
    "xlabel = \"Combined MPG\"\n",
    "ylabel = \"Greenhouse Gas Score\"\n",
    "title = ylabel + \" vs \" + xlabel\n",
    "corr_funct(ca_08, ca_18, title + \" (CA, {})\", y_col,xlabel, ylabel, colors[0])\n",
    "corr_funct(fa_08, fa_18, title + \" (FA, {})\", y_col, xlabel, ylabel, colors[2])"
   ]
  },
  {
   "cell_type": "markdown",
   "metadata": {},
   "source": [
    "Greenhouse Gas Scores and Combined MPG are positively correlated for all 2008 and 2018 vehicles, regardles of the certification."
   ]
  },
  {
   "cell_type": "markdown",
   "metadata": {},
   "source": [
    "#Are more unique models using alternative fuels in 2018 compared to 2008? By how much?\n",
    "#How much have vehicle classes improved in fuel economy (increased in mpg)?\n",
    "#What are the characteristics of SmartWay vehicles? Have they changed over time? (mpg, greenhouse gas)\n",
    "#What features are associated with better fuel economy (mpg)?\n",
    "#For all of the models that were produced in 2008 that are still being produced in 2018, how much has the mpg improved and which vehicle improved the most? (use merge)"
   ]
  }
 ],
 "metadata": {
  "kernelspec": {
   "display_name": "Python 3",
   "language": "python",
   "name": "python3"
  },
  "language_info": {
   "codemirror_mode": {
    "name": "ipython",
    "version": 3
   },
   "file_extension": ".py",
   "mimetype": "text/x-python",
   "name": "python",
   "nbconvert_exporter": "python",
   "pygments_lexer": "ipython3",
   "version": "3.7.0"
  }
 },
 "nbformat": 4,
 "nbformat_minor": 2
}
