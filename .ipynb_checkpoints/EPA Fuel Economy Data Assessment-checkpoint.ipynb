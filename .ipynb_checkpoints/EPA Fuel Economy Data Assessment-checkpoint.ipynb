{
 "cells": [
  {
   "cell_type": "markdown",
   "metadata": {},
   "source": [
    "# EPA Fuel Economy Data Assessment\n",
    "\n",
    "This jupyter notebook provides an assessment of EPA fuel economy data from 2018 and 2008.\n",
    "\n",
    "To download data: https://www.fueleconomy.gov/feg/download.shtml\n",
    "\n",
    "Documentation: https://www.fueleconomy.gov/feg/EPAGreenGuide/GreenVehicleGuideDocumentation.pdf\n",
    "\n",
    "README.txt: http://www.fueleconomy.gov/feg/epadata/Readme.txt"
   ]
  },
  {
   "cell_type": "code",
   "execution_count": 158,
   "metadata": {},
   "outputs": [],
   "source": [
    "import pandas as pd\n",
    "\n",
    "#import and assess the 2008 data\n",
    "temp_08 = pd.read_excel(\"https://www.fueleconomy.gov/feg/EPAGreenGuide/xls/all_alpha_08.xls\")\n",
    "temp_18 = pd.read_excel('https://www.fueleconomy.gov/feg/EPAGreenGuide/xls/all_alpha_18.xlsx')"
   ]
  },
  {
   "cell_type": "markdown",
   "metadata": {},
   "source": [
    "# REMOVE THE BELOW"
   ]
  },
  {
   "cell_type": "code",
   "execution_count": 159,
   "metadata": {},
   "outputs": [],
   "source": [
    "df_08 = temp_08.copy()\n",
    "df_18 = temp_18.copy()"
   ]
  },
  {
   "cell_type": "code",
   "execution_count": 160,
   "metadata": {},
   "outputs": [
    {
     "name": "stdout",
     "output_type": "stream",
     "text": [
      "2008\n",
      "Index(['Model', 'Displ', 'Cyl', 'Trans', 'Drive', 'Fuel', 'Sales Area', 'Stnd',\n",
      "       'Underhood ID', 'Veh Class', 'Air Pollution Score', 'FE Calc Appr',\n",
      "       'City MPG', 'Hwy MPG', 'Cmb MPG', 'Unadj Cmb MPG',\n",
      "       'Greenhouse Gas Score', 'SmartWay'],\n",
      "      dtype='object')\n",
      "2018\n",
      "Index(['Model', 'Displ', 'Cyl', 'Trans', 'Drive', 'Fuel', 'Cert Region',\n",
      "       'Stnd', 'Stnd Description', 'Underhood ID', 'Veh Class',\n",
      "       'Air Pollution Score', 'City MPG', 'Hwy MPG', 'Cmb MPG',\n",
      "       'Greenhouse Gas Score', 'SmartWay', 'Comb CO2'],\n",
      "      dtype='object')\n",
      "\n",
      "Do all columns match?\n",
      "False\n"
     ]
    }
   ],
   "source": [
    "#evaluate column labels to determine if they are aligned\n",
    "print(\"2008\", df_08.columns, \"2018\", df_18.columns, \n",
    "      \"\\nDo all columns match?\",\n",
    "      (df_08.columns == df_18.columns).all(),\n",
    "      sep='\\n')"
   ]
  },
  {
   "cell_type": "code",
   "execution_count": 161,
   "metadata": {},
   "outputs": [],
   "source": [
    "def clean_columns(df):\n",
    "\n",
    "    #Make columns lowercase and replace spaces with underscores in column names\n",
    "    df.rename(columns=lambda x: x.strip().lower().replace(\" \", \"_\"), inplace=True)\n",
    "    \n",
    "    #remove null values and duplicates\n",
    "    df.drop_duplicates(inplace=True)\n",
    "    df.dropna(inplace=True)"
   ]
  },
  {
   "cell_type": "code",
   "execution_count": 162,
   "metadata": {},
   "outputs": [],
   "source": [
    "#dropping columns that are not present in both datasets or are unnecessary for evaluation\n",
    "df_08.drop(['Stnd', 'Underhood ID', 'FE Calc Appr', 'Unadj Cmb MPG'],axis=1,inplace=True)\n",
    "df_18.drop(['Stnd', 'Stnd Description', 'Underhood ID', 'Comb CO2'],axis=1,inplace=True)\n",
    "\n",
    "#renaming columns for consistency in 2008 only\n",
    "\n",
    "df_08.rename(columns={'Sales Area':'Cert Region'}, inplace=True)\n",
    "\n",
    "clean_columns(df_08)\n",
    "clean_columns(df_18)"
   ]
  },
  {
   "cell_type": "markdown",
   "metadata": {},
   "source": [
    "Following columns do not have matching types: cyl, air_pollution_score, city_mpg, hwy_mpg, cmb_mpg, greenhouse_gas_score"
   ]
  },
  {
   "cell_type": "code",
   "execution_count": 163,
   "metadata": {},
   "outputs": [],
   "source": [
    "#remove FC certifications because they are not present in the 2018 dataset\n",
    "cert_08 = df_08.query('cert_region == \"FC\"')\n",
    "df_08.drop(cert_08.index, inplace=True)\n",
    "\n",
    "#2008 - convert from string to integer\n",
    "#2018 - convert from integer to string\n",
    "df_08['cyl'] = df_08['cyl'].apply(lambda x: int(x.strip('( cyl)')))\n",
    "df_18['cyl'] = df_18['cyl'].astype(int)"
   ]
  },
  {
   "cell_type": "markdown",
   "metadata": {},
   "source": [
    "The air_pollution_score, mpg columns, and greenhouse gas scores have a problem. According to [this link](http://www.fueleconomy.gov/feg/findacarhelp.shtml#airPollutionScore) (via the PDF documentation):\n",
    "\n",
    "    \"If a vehicle can operate on more than one type of fuel, an estimate is provided for each fuel type.\"\n",
    "    \n",
    "Vehicles with more than one fuel type will have a string that holds two values - one for each. "
   ]
  },
  {
   "cell_type": "code",
   "execution_count": 164,
   "metadata": {},
   "outputs": [],
   "source": [
    "def split_rows(df, column_list):\n",
    "    \n",
    "    #hybrids\n",
    "    hb = df[df['fuel'].str.contains('/')]\n",
    "    \n",
    "    copy1 = hb.copy()\n",
    "    copy2 = hb.copy() \n",
    "\n",
    "    for c in column_list:\n",
    "        copy1[c] = copy1[c].apply(lambda x: x.split('/')[0])\n",
    "        copy2[c] = copy2[c].apply(lambda x: x.split('/')[1])\n",
    "        \n",
    "    new_rows = copy1.append(copy2)\n",
    "    \n",
    "    df.drop(hb.index, inplace=True)\n",
    "    df = df.append(new_rows, ignore_index=True)\n",
    "    \n",
    "    print(\"Number of rows split:\", hb.shape[0])\n",
    "    return df"
   ]
  },
  {
   "cell_type": "code",
   "execution_count": 165,
   "metadata": {},
   "outputs": [
    {
     "name": "stdout",
     "output_type": "stream",
     "text": [
      "Number of rows split: 1\n",
      "Number of rows split: 76\n"
     ]
    }
   ],
   "source": [
    "df_08 = df_08.query('cert_region == \"CA\"')\n",
    "df_18 = df_18.query('cert_region == \"CA\"')\n",
    "\n",
    "df_08.drop('cert_region', axis=1,inplace=True)\n",
    "df_18.drop('cert_region', axis=1,inplace=True)\n",
    "\n",
    "#runs the above function for both dataframes\n",
    "\n",
    "column_list = ['fuel','city_mpg', 'hwy_mpg', 'cmb_mpg', 'greenhouse_gas_score', 'air_pollution_score']\n",
    "df_08 = split_rows(df_08, column_list)\n",
    "\n",
    "df_18 = split_rows(df_18, column_list[:4])"
   ]
  },
  {
   "cell_type": "code",
   "execution_count": 166,
   "metadata": {},
   "outputs": [
    {
     "data": {
      "text/plain": [
       "model                   True\n",
       "displ                   True\n",
       "cyl                     True\n",
       "trans                   True\n",
       "drive                   True\n",
       "fuel                    True\n",
       "veh_class               True\n",
       "air_pollution_score     True\n",
       "city_mpg                True\n",
       "hwy_mpg                 True\n",
       "cmb_mpg                 True\n",
       "greenhouse_gas_score    True\n",
       "smartway                True\n",
       "dtype: bool"
      ]
     },
     "execution_count": 166,
     "metadata": {},
     "output_type": "execute_result"
    }
   ],
   "source": [
    "for c in column_list[1:]:\n",
    "    df_08[c] = df_08[c].astype(float)\n",
    "    df_18[c] = df_18[c].astype(float)\n",
    "    if c == 'greenhouse_gas_score':\n",
    "        df_08[c] = df_08[c].astype(int)\n",
    "        df_18[c] = df_18[c].astype(int)\n",
    "        \n",
    "df_08.dtypes == df_18.dtypes"
   ]
  },
  {
   "cell_type": "code",
   "execution_count": null,
   "metadata": {},
   "outputs": [],
   "source": []
  },
  {
   "cell_type": "code",
   "execution_count": null,
   "metadata": {},
   "outputs": [],
   "source": []
  }
 ],
 "metadata": {
  "kernelspec": {
   "display_name": "Python 3",
   "language": "python",
   "name": "python3"
  },
  "language_info": {
   "codemirror_mode": {
    "name": "ipython",
    "version": 3
   },
   "file_extension": ".py",
   "mimetype": "text/x-python",
   "name": "python",
   "nbconvert_exporter": "python",
   "pygments_lexer": "ipython3",
   "version": "3.7.0"
  }
 },
 "nbformat": 4,
 "nbformat_minor": 2
}
