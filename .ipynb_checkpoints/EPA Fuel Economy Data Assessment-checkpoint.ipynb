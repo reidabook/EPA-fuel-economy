{
 "cells": [
  {
   "cell_type": "markdown",
   "metadata": {},
   "source": [
    "# EPA Fuel Economy Data Assessment\n",
    "\n",
    "This jupyter notebook provides an assessment of EPA fuel economy data from 2018 and 2008.\n",
    "\n",
    "To download data: https://www.fueleconomy.gov/feg/download.shtml\n",
    "\n",
    "Documentation: https://www.fueleconomy.gov/feg/EPAGreenGuide/GreenVehicleGuideDocumentation.pdf\n",
    "\n",
    "README.txt: http://www.fueleconomy.gov/feg/epadata/Readme.txt"
   ]
  },
  {
   "cell_type": "code",
   "execution_count": 67,
   "metadata": {},
   "outputs": [],
   "source": [
    "import pandas as pd\n",
    "\n",
    "#import and assess the 2008 data\n",
    "temp_08 = pd.read_excel(\"https://www.fueleconomy.gov/feg/EPAGreenGuide/xls/all_alpha_08.xls\")\n",
    "temp_18 = pd.read_excel('https://www.fueleconomy.gov/feg/EPAGreenGuide/xls/all_alpha_18.xlsx')"
   ]
  },
  {
   "cell_type": "markdown",
   "metadata": {},
   "source": [
    "# REMOVE THE BELOW"
   ]
  },
  {
   "cell_type": "code",
   "execution_count": 68,
   "metadata": {},
   "outputs": [],
   "source": [
    "df_08 = temp_08\n",
    "df_18 = temp_18"
   ]
  },
  {
   "cell_type": "code",
   "execution_count": 69,
   "metadata": {},
   "outputs": [
    {
     "name": "stdout",
     "output_type": "stream",
     "text": [
      "2008\n",
      "Index(['Model', 'Displ', 'Cyl', 'Trans', 'Drive', 'Fuel', 'Sales Area', 'Stnd',\n",
      "       'Underhood ID', 'Veh Class', 'Air Pollution Score', 'FE Calc Appr',\n",
      "       'City MPG', 'Hwy MPG', 'Cmb MPG', 'Unadj Cmb MPG',\n",
      "       'Greenhouse Gas Score', 'SmartWay'],\n",
      "      dtype='object')\n",
      "2018\n",
      "Index(['Model', 'Displ', 'Cyl', 'Trans', 'Drive', 'Fuel', 'Cert Region',\n",
      "       'Stnd', 'Stnd Description', 'Underhood ID', 'Veh Class',\n",
      "       'Air Pollution Score', 'City MPG', 'Hwy MPG', 'Cmb MPG',\n",
      "       'Greenhouse Gas Score', 'SmartWay', 'Comb CO2'],\n",
      "      dtype='object')\n",
      "\n",
      "Do all columns match?\n",
      "False\n"
     ]
    }
   ],
   "source": [
    "#evaluate column labels to determine if they are aligned\n",
    "print(\"2008\", df_08.columns, \"2018\", df_18.columns, \n",
    "      \"\\nDo all columns match?\",\n",
    "      (df_08.columns == df_18.columns).all(),\n",
    "      sep='\\n')\n"
   ]
  },
  {
   "cell_type": "code",
   "execution_count": 70,
   "metadata": {},
   "outputs": [
    {
     "name": "stdout",
     "output_type": "stream",
     "text": [
      "Do all columns match?\n",
      "True\n"
     ]
    }
   ],
   "source": [
    "#dropping columns that are not present in both datasets or are unnecessary for evaluation\n",
    "df_08.drop(['Stnd', 'Underhood ID', 'FE Calc Appr', 'Unadj Cmb MPG'],axis=1,inplace=True)\n",
    "df_18.drop(['Stnd', 'Stnd Description', 'Underhood ID', 'Comb CO2'],axis=1,inplace=True)\n",
    "\n",
    "#renaming columns for consistency\n",
    "df_08.rename(columns={'Sales Area':'Cert Region'}, inplace=True)\n",
    "\n",
    "#Make columns lowercase and replace spaces with underscores in column names\n",
    "df_08.rename(columns=lambda x: x.strip().lower().replace(\" \", \"_\"), inplace=True)\n",
    "df_18.rename(columns=lambda x: x.strip().lower().replace(\" \", \"_\"), inplace=True)\n",
    "\n",
    "#confirm columns are identitical\n",
    "print(\"Do all columns match?\",\n",
    "      (df_08.columns == df_18.columns).all(),\n",
    "      sep='\\n')"
   ]
  },
  {
   "cell_type": "code",
   "execution_count": 71,
   "metadata": {},
   "outputs": [],
   "source": [
    "#remove null values and duplicates\n",
    "df_08.drop_duplicates(inplace=True)\n",
    "df_08.dropna(inplace=True)\n",
    "df_18.drop_duplicates(inplace=True)\n",
    "df_18.dropna(inplace=True)"
   ]
  },
  {
   "cell_type": "code",
   "execution_count": 72,
   "metadata": {},
   "outputs": [
    {
     "name": "stdout",
     "output_type": "stream",
     "text": [
      "<class 'pandas.core.frame.DataFrame'>\n",
      "Int64Index: 2142 entries, 0 to 2403\n",
      "Data columns (total 14 columns):\n",
      "model                   2142 non-null object\n",
      "displ                   2142 non-null float64\n",
      "cyl                     2142 non-null object\n",
      "trans                   2142 non-null object\n",
      "drive                   2142 non-null object\n",
      "fuel                    2142 non-null object\n",
      "cert_region             2142 non-null object\n",
      "veh_class               2142 non-null object\n",
      "air_pollution_score     2142 non-null object\n",
      "city_mpg                2142 non-null object\n",
      "hwy_mpg                 2142 non-null object\n",
      "cmb_mpg                 2142 non-null object\n",
      "greenhouse_gas_score    2142 non-null object\n",
      "smartway                2142 non-null object\n",
      "dtypes: float64(1), object(13)\n",
      "memory usage: 251.0+ KB\n"
     ]
    }
   ],
   "source": [
    "df_08.info()"
   ]
  },
  {
   "cell_type": "code",
   "execution_count": 73,
   "metadata": {},
   "outputs": [
    {
     "name": "stdout",
     "output_type": "stream",
     "text": [
      "<class 'pandas.core.frame.DataFrame'>\n",
      "Int64Index: 2615 entries, 0 to 2681\n",
      "Data columns (total 14 columns):\n",
      "model                   2615 non-null object\n",
      "displ                   2615 non-null float64\n",
      "cyl                     2615 non-null float64\n",
      "trans                   2615 non-null object\n",
      "drive                   2615 non-null object\n",
      "fuel                    2615 non-null object\n",
      "cert_region             2615 non-null object\n",
      "veh_class               2615 non-null object\n",
      "air_pollution_score     2615 non-null int64\n",
      "city_mpg                2615 non-null object\n",
      "hwy_mpg                 2615 non-null object\n",
      "cmb_mpg                 2615 non-null object\n",
      "greenhouse_gas_score    2615 non-null int64\n",
      "smartway                2615 non-null object\n",
      "dtypes: float64(2), int64(2), object(10)\n",
      "memory usage: 306.4+ KB\n"
     ]
    }
   ],
   "source": [
    "df_18.info()"
   ]
  },
  {
   "cell_type": "markdown",
   "metadata": {},
   "source": [
    "Following columns do not have matching types: cyl, air_pollution_score, city_mpg, hwy_mpg, cmb_mpg, greenhouse_gas_score"
   ]
  },
  {
   "cell_type": "code",
   "execution_count": 74,
   "metadata": {},
   "outputs": [],
   "source": [
    "# 2008 - convert from string to integer\n",
    "#2018 - convert from integer to string\n",
    "df_08['cyl'] = df_08['cyl'].apply(lambda x: int(x.strip('( cyl)')))\n",
    "df_18['cyl'] = df_18['cyl'].astype(int)"
   ]
  },
  {
   "cell_type": "markdown",
   "metadata": {},
   "source": [
    "The air_pollution_score, mpg columns, and greenhouse gas scores have a problem. According to [this link](http://www.fueleconomy.gov/feg/findacarhelp.shtml#airPollutionScore) (via the PDF documentation):\n",
    "\n",
    "    \"If a vehicle can operate on more than one type of fuel, an estimate is provided for each fuel type.\"\n",
    "    \n",
    "Vehicles with more than one fuel type will have a string that holds two values - one for each. "
   ]
  },
  {
   "cell_type": "code",
   "execution_count": null,
   "metadata": {},
   "outputs": [],
   "source": []
  }
 ],
 "metadata": {
  "kernelspec": {
   "display_name": "Python 3",
   "language": "python",
   "name": "python3"
  },
  "language_info": {
   "codemirror_mode": {
    "name": "ipython",
    "version": 3
   },
   "file_extension": ".py",
   "mimetype": "text/x-python",
   "name": "python",
   "nbconvert_exporter": "python",
   "pygments_lexer": "ipython3",
   "version": "3.7.0"
  }
 },
 "nbformat": 4,
 "nbformat_minor": 2
}
